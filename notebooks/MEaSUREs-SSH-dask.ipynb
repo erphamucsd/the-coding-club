{
 "cells": [
  {
   "cell_type": "markdown",
   "metadata": {
    "tags": []
   },
   "source": [
    "# Using Dask to process MEaSUREs Gridded Sea Surface Height Anomalies Version 1812\n"
   ]
  },
  {
   "cell_type": "code",
   "execution_count": null,
   "metadata": {},
   "outputs": [],
   "source": [
    "import xarray as xr\n",
    "import pprint\n",
    "import h5py\n",
    "\n",
    "#Short_name is used to identify a specific dataset in NASA Earthdata. \n",
    "short_name='SEA_SURFACE_HEIGHT_ALT_GRIDS_L4_2SATS_5DAY_6THDEG_V_JPL1812'"
   ]
  },
  {
   "cell_type": "code",
   "execution_count": null,
   "metadata": {
    "tags": []
   },
   "outputs": [],
   "source": [
    "def init_S3FileSystem():\n",
    "    import requests,s3fs\n",
    "    s3_cred_endpoint = {\n",
    "        'podaac':'https://archive.podaac.earthdata.nasa.gov/s3credentials',\n",
    "        'lpdaac':'https://data.lpdaac.earthdatacloud.nasa.gov/s3credentials'}\n",
    "\n",
    "    temp_creds_url = s3_cred_endpoint['podaac']\n",
    "    creds = requests.get(temp_creds_url).json()\n",
    "    s3 = s3fs.S3FileSystem(anon=False,\n",
    "                           key=creds['accessKeyId'],\n",
    "                           secret=creds['secretAccessKey'], \n",
    "                           token=creds['sessionToken'])\n",
    "    return s3\n",
    "\n",
    "def return_token():\n",
    "    import requests\n",
    "    s3_cred_endpoint = {\n",
    "        'podaac':'https://archive.podaac.earthdata.nasa.gov/s3credentials',\n",
    "        'lpdaac':'https://data.lpdaac.earthdatacloud.nasa.gov/s3credentials'}\n",
    "\n",
    "    temp_creds_url = s3_cred_endpoint['podaac']\n",
    "    creds = requests.get(temp_creds_url).json()\n",
    "    return creds"
   ]
  },
  {
   "cell_type": "code",
   "execution_count": null,
   "metadata": {},
   "outputs": [],
   "source": [
    "s3sys=init_S3FileSystem()\n",
    "fns=s3sys.glob(\"s3://podaac-ops-cumulus-protected/%s/*.nc\"%short_name)\n"
   ]
  },
  {
   "cell_type": "code",
   "execution_count": null,
   "metadata": {},
   "outputs": [],
   "source": [
    "d=xr.open_dataset(s3sys.open(fns[0]))\n",
    "d['SLA'].mean()"
   ]
  },
  {
   "cell_type": "code",
   "execution_count": null,
   "metadata": {},
   "outputs": [],
   "source": [
    "def calc_mean(fn_s3,s3sys):\n",
    "    d=xr.open_dataset(s3sys.open(fn_s3))\n",
    "    return d['SLA'].mean().data"
   ]
  },
  {
   "cell_type": "code",
   "execution_count": null,
   "metadata": {},
   "outputs": [],
   "source": [
    "from dask.distributed import Client\n",
    "from dask import delayed,compute\n",
    "client = Client(n_workers=2)"
   ]
  },
  {
   "cell_type": "code",
   "execution_count": null,
   "metadata": {},
   "outputs": [],
   "source": [
    "client"
   ]
  },
  {
   "cell_type": "code",
   "execution_count": null,
   "metadata": {},
   "outputs": [],
   "source": [
    "print('There are %i files.'%len(fns))"
   ]
  },
  {
   "cell_type": "code",
   "execution_count": null,
   "metadata": {},
   "outputs": [],
   "source": [
    "%%time\n",
    "\n",
    "result=[]\n",
    "\n",
    "for fn in fns[:100]:\n",
    "    result.append(delayed(calc_mean)(fn,s3sys) )\n",
    "\n",
    "output=compute(result)\n",
    "print(output)\n"
   ]
  },
  {
   "cell_type": "code",
   "execution_count": null,
   "metadata": {},
   "outputs": [],
   "source": [
    "%%time\n",
    "\n",
    "result=[]\n",
    "\n",
    "for fn in fns[:100]:\n",
    "    result.append(calc_mean(fn,s3sys) )\n",
    "print(result)"
   ]
  }
 ],
 "metadata": {
  "kernelspec": {
   "display_name": "Python 3 (ipykernel)",
   "language": "python",
   "name": "python3"
  },
  "language_info": {
   "codemirror_mode": {
    "name": "ipython",
    "version": 3
   },
   "file_extension": ".py",
   "mimetype": "text/x-python",
   "name": "python",
   "nbconvert_exporter": "python",
   "pygments_lexer": "ipython3",
   "version": "3.7.13"
  }
 },
 "nbformat": 4,
 "nbformat_minor": 4
}
