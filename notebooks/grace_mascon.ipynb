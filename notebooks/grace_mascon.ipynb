{
 "cells": [
  {
   "cell_type": "markdown",
   "id": "2835bcab-a834-4c7d-9854-d97626eb49f2",
   "metadata": {},
   "source": [
    "# Test the in-cloud access of TELLUS_GRAC-GRFO_MASCON_CRI_GRID_RL06_V2\n",
    "\n",
    "![image](https://podaac.jpl.nasa.gov/Podaac/thumbnails/TELLUS_GRAC-GRFO_MASCON_CRI_GRID_RL06_V2.jpg)\n",
    "\n",
    "\n",
    "More information of the data used in this demo can be found on the [podaac landing page](https://doi.org/10.5067/TEMSC-3JC62)\n",
    "\n",
    "Drafted by Munish Sikka.\n",
    "\n",
    "Revised by Jinbo Wang."
   ]
  },
  {
   "cell_type": "code",
   "execution_count": null,
   "id": "lightweight-prize",
   "metadata": {},
   "outputs": [],
   "source": [
    "%%capture\n",
    "import requests\n",
    "import numpy as np\n",
    "import time\n",
    "import xarray as xr\n",
    "import pylab as plt\n",
    "\n",
    "\n",
    "def store_aws_keys(endpoint: str=\"https://archive.podaac.earthdata.nasa.gov/s3credentials\"):    \n",
    "    with requests.get(endpoint, \"w\") as r:\n",
    "        accessKeyId, secretAccessKey, sessionToken, expiration = list(r.json().values())\n",
    "\n",
    "    creds ={}\n",
    "    creds['AccessKeyId'] = accessKeyId\n",
    "    creds['SecretAccessKey'] = secretAccessKey\n",
    "    creds['SessionToken'] = sessionToken\n",
    "    creds['expiration'] = expiration\n",
    "    \n",
    "    return creds\n",
    "\n",
    "\n",
    "creds = store_aws_keys()\n",
    "print(creds)"
   ]
  },
  {
   "cell_type": "code",
   "execution_count": null,
   "id": "mechanical-blank",
   "metadata": {},
   "outputs": [],
   "source": [
    "import s3fs\n",
    "s3 = s3fs.S3FileSystem(\n",
    "    key=creds['AccessKeyId'],\n",
    "    secret=creds['SecretAccessKey'],\n",
    "    token=creds['SessionToken'],\n",
    "    client_kwargs={'region_name':'us-west-2'},\n",
    ")"
   ]
  },
  {
   "cell_type": "code",
   "execution_count": null,
   "id": "bright-consistency",
   "metadata": {},
   "outputs": [],
   "source": [
    "print(f\"\\nThe current session token expires at {creds['expiration']}.\\n\")"
   ]
  },
  {
   "cell_type": "code",
   "execution_count": null,
   "id": "parallel-bikini",
   "metadata": {},
   "outputs": [],
   "source": [
    "# PO.DAAC's 'short name' is an identifier for the dataset\n",
    "ShortName = 'TELLUS_GRAC-GRFO_MASCON_CRI_GRID_RL06_V2'"
   ]
  },
  {
   "cell_type": "code",
   "execution_count": null,
   "id": "closing-capture",
   "metadata": {},
   "outputs": [],
   "source": [
    "# Ask PODAAC for the collection id using the 'short name'\n",
    "response = requests.get(\n",
    "    url='https://cmr.earthdata.nasa.gov/search/collections.umm_json', \n",
    "    params={'provider': \"POCLOUD\",\n",
    "            'ShortName': ShortName,\n",
    "            'page_size': 1}\n",
    ")\n",
    "\n",
    "ummc = response.json()['items'][0]\n",
    "ccid = ummc['meta']['concept-id']\n",
    "print(f'collection id: {ccid}')"
   ]
  },
  {
   "cell_type": "code",
   "execution_count": null,
   "id": "interesting-arthur",
   "metadata": {},
   "outputs": [],
   "source": [
    "\n",
    "\n",
    "## this GRACE dataset provided as only one file spanning the period 2002 to 2022\n",
    "## unlike other datasets hosted by PO.DAAC which tend to be provided \n",
    "## as one file per time level (e.g., month or year).  \n",
    "\n",
    "# GRCTellus.JPL.200204_202201.GLO.RL06M.MSCNv02CRI.nc\n",
    "\n",
    "start_time = time.time()\n",
    "\n",
    "#ss = \"podaac-ops-cumulus-protected/\" + ShortName + '/GRCTellus.JPL.200204_202201.GLO.RL06M.MSCNv02CRI.nc'\n",
    "\n",
    "ss=\"podaac-ops-cumulus-protected/%s/*.nc\"%ShortName\n",
    "GRACE_s3_files = np.sort(s3.glob(ss))\n",
    "print(GRACE_s3_files)\n"
   ]
  },
  {
   "cell_type": "code",
   "execution_count": null,
   "id": "compliant-black",
   "metadata": {},
   "outputs": [],
   "source": [
    "data=xr.open_dataset(s3.open('podaac-ops-cumulus-protected/TELLUS_GRAC-GRFO_MASCON_CRI_GRID_RL06_V2/GRCTellus.JPL.200204_202201.GLO.RL06M.MSCNv02CRI.nc'))"
   ]
  },
  {
   "cell_type": "code",
   "execution_count": null,
   "id": "vocational-valve",
   "metadata": {},
   "outputs": [],
   "source": [
    "data"
   ]
  },
  {
   "cell_type": "markdown",
   "id": "4c3d45e1-ca5d-4bb0-99e5-089ac621f106",
   "metadata": {},
   "source": [
    "## Plot an snapshot"
   ]
  },
  {
   "cell_type": "code",
   "execution_count": null,
   "id": "future-september",
   "metadata": {},
   "outputs": [],
   "source": [
    "fig=plt.figure(figsize=(16,10))\n",
    "data['lwe_thickness'][0,...].plot(vmin=-100,vmax=100,cmap=plt.cm.bwr)"
   ]
  },
  {
   "cell_type": "markdown",
   "id": "c6e6cc77-c152-4cec-8a36-95ca351e8169",
   "metadata": {},
   "source": [
    "## Plot the temporal variability"
   ]
  },
  {
   "cell_type": "code",
   "execution_count": null,
   "id": "invalid-indiana",
   "metadata": {},
   "outputs": [],
   "source": [
    "fig=plt.figure(figsize=(16,10))\n",
    "data['lwe_thickness'].var(axis=0).plot(vmin=-100,vmax=100,cmap=plt.cm.bwr)"
   ]
  },
  {
   "cell_type": "code",
   "execution_count": null,
   "id": "00f34547-ba18-429d-a05d-238fbabe9dff",
   "metadata": {},
   "outputs": [],
   "source": []
  }
 ],
 "metadata": {
  "kernelspec": {
   "display_name": "Python 3 (ipykernel)",
   "language": "python",
   "name": "python3"
  },
  "language_info": {
   "codemirror_mode": {
    "name": "ipython",
    "version": 3
   },
   "file_extension": ".py",
   "mimetype": "text/x-python",
   "name": "python",
   "nbconvert_exporter": "python",
   "pygments_lexer": "ipython3",
   "version": "3.9.13"
  }
 },
 "nbformat": 4,
 "nbformat_minor": 5
}
