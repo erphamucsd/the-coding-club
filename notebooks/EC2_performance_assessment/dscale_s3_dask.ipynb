{
 "cells": [
  {
   "cell_type": "markdown",
   "id": "2d3b7239",
   "metadata": {},
   "source": [
    "# Cloud Optimization Tests\n",
    "## Downscaling MUR SST using AWS EC2\n",
    "\n",
    "See how long it takes to downscale an ultra-high resolution SST product when accessing an SST file on AWS S3 ***using dask***. Downscale from 0.01 degree resolution to 1 deg resolution (global coverage).\n",
    "\n",
    "Uses the MUR Level 4 daily SST ultra high resolution data product, 0.01 degree resolution, s3 location `s3://podaac-ops-cumulus-protected/MUR-JPL-L4-GLOB-v4.1/`.\n",
    "\n",
    "<br>\n",
    "\n",
    "**Requirements to run this notebook**\n",
    "* Have a URS Earthdata login.\n",
    "* Run in an AWS EC2 instance (minimum without dask chuncking is a t2.xlarge instance).\n",
    "* Have URS Earthdata login credentials in the `.netrc` file on the home directory:\n",
    "```\n",
    "machine urs.earthdata.nasa.gov\n",
    "    login <Earthdata username>\n",
    "    password <Earthdata password>\n",
    "```\n",
    "\n",
    "<br>\n",
    "\n",
    "**Current Status**\n",
    "* Seems like a minimum of a t2.xlarge instance (8 GB RAM) is required.\n",
    "* ***Garbage collection and variable deletion is essential. EC2 instance runs out of RAM otherwise.***\n",
    "\n",
    "<br>\n",
    "\n",
    "**To do**\n",
    "* Try to load file with xarray using the `chunks` argument."
   ]
  },
  {
   "cell_type": "code",
   "execution_count": 14,
   "id": "ad0f25a3-af77-4b47-9fa2-7bbcc7531da3",
   "metadata": {},
   "outputs": [],
   "source": [
    "import gc\n",
    "import os\n",
    "import time\n",
    "\n",
    "import s3fs\n",
    "import requests\n",
    "\n",
    "import xarray as xr\n",
    "import h5py\n",
    "import numpy as np\n",
    "import pandas as pd\n",
    "\n",
    "import dask\n",
    "import dask.array as da\n",
    "from dask.distributed import Client, LocalCluster, progress\n",
    "from dask import delayed\n",
    "\n",
    "import matplotlib.pyplot as plt\n",
    "%matplotlib inline"
   ]
  },
  {
   "cell_type": "markdown",
   "id": "db24c6aa",
   "metadata": {},
   "source": [
    "## Function to set up an s3fs session for Direct Access \n",
    "If the following function fails, verify that the following is in the .netrc file in your home directory:\n",
    "```\n",
    "machine urs.earthdata.nasa.gov\n",
    "    login <Earthdata username>\n",
    "    password <Earthdata password>\n",
    "```\n",
    "where the `<Earthdata username>` and `<Earthdata password>` are your login credentials."
   ]
  },
  {
   "cell_type": "code",
   "execution_count": 12,
   "id": "bde9c3b7-bce7-42b4-b964-f78d7ec3f7ca",
   "metadata": {},
   "outputs": [],
   "source": [
    "def init_S3FileSystem():\n",
    "    \"\"\"\n",
    "    This routine automatically pulls your EDL crediential from .netrc file and use it \n",
    "    to obtain a temporary AWS S3 credential through a podaac service accessable at \n",
    "    https://archive.podaac.earthdata.nasa.gov/s3credentials\n",
    "    \n",
    "    Return:\n",
    "    =======\n",
    "    s3: an AWS S3 filesystem\n",
    "    \"\"\"\n",
    "    import requests, s3fs\n",
    "    creds = requests.get('https://archive.podaac.earthdata.nasa.gov/s3credentials').json()\n",
    "    s3 = s3fs.S3FileSystem(anon=False,\n",
    "                           key=creds['accessKeyId'],\n",
    "                           secret=creds['secretAccessKey'], \n",
    "                           token=creds['sessionToken'],\n",
    "                           client_kwargs={'region_name':'us-west-2'})\n",
    "    return s3"
   ]
  },
  {
   "cell_type": "markdown",
   "id": "680caccc-84d5-4492-b420-948d1c164404",
   "metadata": {},
   "source": [
    "## Functions to load and downscale MUR SST files"
   ]
  },
  {
   "cell_type": "code",
   "execution_count": 64,
   "id": "6bd91c23-548c-4bcc-874d-484f836bb7ca",
   "metadata": {},
   "outputs": [],
   "source": [
    "def downscale_xr_s3(fs_s3, filepath_s3, output_dir, chunks=None):\n",
    "    \"\"\"\n",
    "    Open and downscale SST's from 1 km to 100 km from a MUR 1 km file on an S3 bucket. fs_s3 is the \n",
    "    S3 file system and filepath_s3 is the MUR filepath on S3. output_dir is the directory to save \n",
    "    the downscaled data file in.\n",
    "    \"\"\"\n",
    "    \n",
    "    print('Opening ', filepath_s3)\n",
    "    s3_file_obj = fs_s3.open(filepath_s3, mode='rb')\n",
    "    sstdata = xr.open_dataset(s3_file_obj, chunks=chunks)\n",
    "    \n",
    "    def downscale_mursst(sst):\n",
    "        \"\"\"\n",
    "        This function takes MUR SST 1km data (with dimensions of 17900x36000), reshapes, and \n",
    "        computes the mean temperature in 1x1 degree boxes, and then returns the processed \n",
    "        SST data (shape 180x360).\n",
    "\n",
    "        Parameters\n",
    "        ----------\n",
    "        sst: 2D array-like of sea surface temperatures.\n",
    "        \"\"\"\n",
    "        sst0 = np.r_[sst[0:1, :], sst]; del sst\n",
    "        sst = sst0.reshape(180, 100, 360, 100).mean(axis=-1).mean(axis=1); del sst0\n",
    "        return sst\n",
    "    \n",
    "    print(\"Downscaling.\")\n",
    "    sst_downscaled = downscale_mursst(sstdata['analysed_sst'][0, ...])\n",
    "    \n",
    "    # Save downscaled SST to .nc file:\n",
    "    print(\"Saving output.\")\n",
    "    ds = xr.Dataset(\n",
    "        data_vars=dict(\n",
    "            sst=([\"time\", \"lat\", \"lon\"], np.expand_dims(sst_downscaled, axis=0)) # Add dim for time.\n",
    "            ),\n",
    "        coords=dict(\n",
    "            lon=sstdata['lon'].values[::100], # lons, lats in downscaled res.\n",
    "            lat=sstdata['lat'].values[::100],\n",
    "            time=sstdata[\"time\"].values,\n",
    "            ),\n",
    "        attrs=dict(\n",
    "            description=\"SST downscaled from MUR 1 km file to 100 km resolution.\",\n",
    "            units=\"K\",\n",
    "            ),\n",
    "        )\n",
    "    ds.to_netcdf(output_dir + filepath_s3.split(\"/\")[-1][:-3] + \"_downscaled.nc\")\n",
    "    \n",
    "    sstdata.close()"
   ]
  },
  {
   "cell_type": "markdown",
   "id": "46f689e0-6c8d-44c7-9bf8-6889736c8c66",
   "metadata": {},
   "source": [
    "## Establish S3 Connection and Get MUR File Paths"
   ]
  },
  {
   "cell_type": "code",
   "execution_count": 57,
   "id": "abae3dd6-b75f-4479-af20-6e915ed8f3c4",
   "metadata": {},
   "outputs": [],
   "source": [
    "# Get temporary AWS credentials for access\n",
    "fs_s3 = init_S3FileSystem()"
   ]
  },
  {
   "cell_type": "code",
   "execution_count": 58,
   "id": "a139c8cd-e878-46a8-8d36-61d28cfb7fc3",
   "metadata": {},
   "outputs": [
    {
     "name": "stdout",
     "output_type": "stream",
     "text": [
      "total granules =  7665\n",
      "Example filename:  podaac-ops-cumulus-protected/MUR-JPL-L4-GLOB-v4.1/20020601090000-JPL-L4_GHRSST-SSTfnd-MUR-GLOB-v02.0-fv04.1.nc\n"
     ]
    }
   ],
   "source": [
    "# File paths of all MUR granules:\n",
    "s3path = \"s3://podaac-ops-cumulus-protected/MUR-JPL-L4-GLOB-v4.1/\"\n",
    "fns = fs_s3.glob(s3path+\"*.nc\")\n",
    "print(\"total granules = \",len(fns))\n",
    "print(\"Example filename: \", fns[0])"
   ]
  },
  {
   "cell_type": "markdown",
   "id": "d0336774-4778-4c56-a749-9857f64bb9fb",
   "metadata": {},
   "source": [
    "## Control: Downscaling without Dask"
   ]
  },
  {
   "cell_type": "code",
   "execution_count": 7,
   "id": "58ba32d1-8222-4b6c-896e-957ed35a1620",
   "metadata": {},
   "outputs": [],
   "source": [
    "if not os.path.isdir(\"./sst_downscaled\"):\n",
    "    os.mkdir(\"./sst_downscaled\")"
   ]
  },
  {
   "cell_type": "code",
   "execution_count": 8,
   "id": "b5339461-565f-4882-8b7a-b2dfcb0fc03a",
   "metadata": {},
   "outputs": [
    {
     "name": "stdout",
     "output_type": "stream",
     "text": [
      "Opening  podaac-ops-cumulus-protected/MUR-JPL-L4-GLOB-v4.1/20020601090000-JPL-L4_GHRSST-SSTfnd-MUR-GLOB-v02.0-fv04.1.nc\n",
      "Downscaling.\n",
      "Saving output.\n",
      "Opening  podaac-ops-cumulus-protected/MUR-JPL-L4-GLOB-v4.1/20020601090000-JPL-L4_GHRSST-SSTfnd-MUR-GLOB-v02.0-fv04.1.nc\n",
      "Downscaling.\n",
      "Saving output.\n",
      "Opening  podaac-ops-cumulus-protected/MUR-JPL-L4-GLOB-v4.1/20020601090000-JPL-L4_GHRSST-SSTfnd-MUR-GLOB-v02.0-fv04.1.nc\n",
      "Downscaling.\n",
      "Saving output.\n",
      "Opening  podaac-ops-cumulus-protected/MUR-JPL-L4-GLOB-v4.1/20020601090000-JPL-L4_GHRSST-SSTfnd-MUR-GLOB-v02.0-fv04.1.nc\n",
      "Downscaling.\n",
      "Saving output.\n",
      "Opening  podaac-ops-cumulus-protected/MUR-JPL-L4-GLOB-v4.1/20020601090000-JPL-L4_GHRSST-SSTfnd-MUR-GLOB-v02.0-fv04.1.nc\n",
      "Downscaling.\n",
      "Saving output.\n",
      "Opening  podaac-ops-cumulus-protected/MUR-JPL-L4-GLOB-v4.1/20020601090000-JPL-L4_GHRSST-SSTfnd-MUR-GLOB-v02.0-fv04.1.nc\n",
      "Downscaling.\n",
      "Saving output.\n",
      "Opening  podaac-ops-cumulus-protected/MUR-JPL-L4-GLOB-v4.1/20020601090000-JPL-L4_GHRSST-SSTfnd-MUR-GLOB-v02.0-fv04.1.nc\n",
      "Downscaling.\n",
      "Saving output.\n",
      "Opening  podaac-ops-cumulus-protected/MUR-JPL-L4-GLOB-v4.1/20020601090000-JPL-L4_GHRSST-SSTfnd-MUR-GLOB-v02.0-fv04.1.nc\n",
      "Downscaling.\n",
      "Saving output.\n",
      "Opening  podaac-ops-cumulus-protected/MUR-JPL-L4-GLOB-v4.1/20020601090000-JPL-L4_GHRSST-SSTfnd-MUR-GLOB-v02.0-fv04.1.nc\n",
      "Downscaling.\n",
      "Saving output.\n",
      "Opening  podaac-ops-cumulus-protected/MUR-JPL-L4-GLOB-v4.1/20020601090000-JPL-L4_GHRSST-SSTfnd-MUR-GLOB-v02.0-fv04.1.nc\n",
      "Downscaling.\n",
      "Saving output.\n",
      "CPU times: user 2min 2s, sys: 38.5 s, total: 2min 41s\n",
      "Wall time: 3min 52s\n"
     ]
    }
   ],
   "source": [
    "%%time\n",
    "for i in range(10):\n",
    "    downscale_xr_s3(fs_s3, fns[i], \"./sst_downscaled/\")"
   ]
  },
  {
   "cell_type": "markdown",
   "id": "08d72b10-6556-4d8d-8d24-957fe3c7ec96",
   "metadata": {},
   "source": [
    "## Test: Downscaling with Dask"
   ]
  },
  {
   "cell_type": "markdown",
   "id": "1e87d265-499c-4854-b320-a96ee21b4621",
   "metadata": {},
   "source": [
    "**Setup Dask**"
   ]
  },
  {
   "cell_type": "code",
   "execution_count": 65,
   "id": "17d993de-ffad-4fb8-b7b8-761da1c808da",
   "metadata": {},
   "outputs": [],
   "source": [
    "@dask.delayed\n",
    "def downscale_xr_s3_dd(fs_s3, filepath_s3, output_dir, chunks=None):\n",
    "    \"\"\"\n",
    "    Open and downscale SST's from 1 km to 100 km from a MUR 1 km file on an S3 bucket. fs_s3 is the \n",
    "    S3 file system and filepath_s3 is the MUR filepath on S3. output_dir is the directory to save \n",
    "    the downscaled data file in.\n",
    "    \"\"\"\n",
    "    \n",
    "    print('Opening ', filepath_s3)\n",
    "    s3_file_obj = fs_s3.open(filepath_s3, mode='rb')\n",
    "    sstdata = xr.open_dataset(s3_file_obj, chunks=chunks)\n",
    "    \n",
    "    def downscale_mursst(sst):\n",
    "        \"\"\"\n",
    "        This function takes MUR SST 1km data (with dimensions of 17900x36000), reshapes, and \n",
    "        computes the mean temperature in 1x1 degree boxes, and then returns the processed \n",
    "        SST data (shape 180x360).\n",
    "\n",
    "        Parameters\n",
    "        ----------\n",
    "        sst: 2D array-like of sea surface temperatures.\n",
    "        \"\"\"\n",
    "        sst0 = np.r_[sst[0:1, :], sst]; del sst\n",
    "        sst = sst0.reshape(180, 100, 360, 100).mean(axis=-1).mean(axis=1); del sst0\n",
    "        return sst\n",
    "    \n",
    "    print(\"Downscaling.\")\n",
    "    sst_downscaled = downscale_mursst(sstdata['analysed_sst'][0, ...])\n",
    "    \n",
    "    # Save downscaled SST to .nc file:\n",
    "    print(\"Saving output.\")\n",
    "    ds = xr.Dataset(\n",
    "        data_vars=dict(\n",
    "            sst=([\"time\", \"lat\", \"lon\"], np.expand_dims(sst_downscaled, axis=0)) # Add dim for time.\n",
    "            ),\n",
    "        coords=dict(\n",
    "            lon=sstdata['lon'].values[::100], # lons, lats in downscaled res.\n",
    "            lat=sstdata['lat'].values[::100],\n",
    "            time=sstdata[\"time\"].values,\n",
    "            ),\n",
    "        attrs=dict(\n",
    "            description=\"SST downscaled from MUR 1 km file to 100 km resolution.\",\n",
    "            units=\"K\",\n",
    "            ),\n",
    "        )\n",
    "    ds.to_netcdf(output_dir + filepath_s3.split(\"/\")[-1][:-3] + \"_downscaled.nc\")\n",
    "    \n",
    "    sstdata.close()"
   ]
  },
  {
   "cell_type": "code",
   "execution_count": 66,
   "id": "7fc958f3-e741-4c25-85f9-f934536b4adc",
   "metadata": {},
   "outputs": [
    {
     "name": "stdout",
     "output_type": "stream",
     "text": [
      "4\n"
     ]
    }
   ],
   "source": [
    "# Detect available vCPUs on this machine:\n",
    "import multiprocessing\n",
    "n_workers = multiprocessing.cpu_count()\n",
    "print(n_workers)"
   ]
  },
  {
   "cell_type": "code",
   "execution_count": 54,
   "id": "a91eb4ae-4e26-4d8e-abde-6ffd230995c0",
   "metadata": {},
   "outputs": [
    {
     "name": "stderr",
     "output_type": "stream",
     "text": [
      "/home/ec2-user/conda/envs/jupyter/lib/python3.7/site-packages/distributed/node.py:161: UserWarning: Port 8787 is already in use.\n",
      "Perhaps you already have a cluster running?\n",
      "Hosting the HTTP server on port 43595 instead\n",
      "  f\"Port {expected} is already in use.\\n\"\n"
     ]
    },
    {
     "data": {
      "text/html": [
       "<div>\n",
       "    <div style=\"width: 24px; height: 24px; background-color: #e1e1e1; border: 3px solid #9D9D9D; border-radius: 5px; position: absolute;\"> </div>\n",
       "    <div style=\"margin-left: 48px;\">\n",
       "        <h3 style=\"margin-bottom: 0px;\">Client</h3>\n",
       "        <p style=\"color: #9D9D9D; margin-bottom: 0px;\">Client-3f82a51e-ffd1-11ed-89e0-064f06d3ce49</p>\n",
       "        <table style=\"width: 100%; text-align: left;\">\n",
       "\n",
       "        <tr>\n",
       "        \n",
       "            <td style=\"text-align: left;\"><strong>Connection method:</strong> Cluster object</td>\n",
       "            <td style=\"text-align: left;\"><strong>Cluster type:</strong> distributed.LocalCluster</td>\n",
       "        \n",
       "        </tr>\n",
       "\n",
       "        \n",
       "            <tr>\n",
       "                <td style=\"text-align: left;\">\n",
       "                    <strong>Dashboard: </strong> <a href=\"http://127.0.0.1:43595/status\" target=\"_blank\">http://127.0.0.1:43595/status</a>\n",
       "                </td>\n",
       "                <td style=\"text-align: left;\"></td>\n",
       "            </tr>\n",
       "        \n",
       "\n",
       "        </table>\n",
       "\n",
       "        \n",
       "            <details>\n",
       "            <summary style=\"margin-bottom: 20px;\"><h3 style=\"display: inline;\">Cluster Info</h3></summary>\n",
       "            <div class=\"jp-RenderedHTMLCommon jp-RenderedHTML jp-mod-trusted jp-OutputArea-output\">\n",
       "    <div style=\"width: 24px; height: 24px; background-color: #e1e1e1; border: 3px solid #9D9D9D; border-radius: 5px; position: absolute;\">\n",
       "    </div>\n",
       "    <div style=\"margin-left: 48px;\">\n",
       "        <h3 style=\"margin-bottom: 0px; margin-top: 0px;\">LocalCluster</h3>\n",
       "        <p style=\"color: #9D9D9D; margin-bottom: 0px;\">92cc1273</p>\n",
       "        <table style=\"width: 100%; text-align: left;\">\n",
       "            <tr>\n",
       "                <td style=\"text-align: left;\">\n",
       "                    <strong>Dashboard:</strong> <a href=\"http://127.0.0.1:43595/status\" target=\"_blank\">http://127.0.0.1:43595/status</a>\n",
       "                </td>\n",
       "                <td style=\"text-align: left;\">\n",
       "                    <strong>Workers:</strong> 2\n",
       "                </td>\n",
       "            </tr>\n",
       "            <tr>\n",
       "                <td style=\"text-align: left;\">\n",
       "                    <strong>Total threads:</strong> 2\n",
       "                </td>\n",
       "                <td style=\"text-align: left;\">\n",
       "                    <strong>Total memory:</strong> 15.61 GiB\n",
       "                </td>\n",
       "            </tr>\n",
       "            \n",
       "            <tr>\n",
       "    <td style=\"text-align: left;\"><strong>Status:</strong> running</td>\n",
       "    <td style=\"text-align: left;\"><strong>Using processes:</strong> True</td>\n",
       "</tr>\n",
       "\n",
       "            \n",
       "        </table>\n",
       "\n",
       "        <details>\n",
       "            <summary style=\"margin-bottom: 20px;\">\n",
       "                <h3 style=\"display: inline;\">Scheduler Info</h3>\n",
       "            </summary>\n",
       "\n",
       "            <div style=\"\">\n",
       "    <div>\n",
       "        <div style=\"width: 24px; height: 24px; background-color: #FFF7E5; border: 3px solid #FF6132; border-radius: 5px; position: absolute;\"> </div>\n",
       "        <div style=\"margin-left: 48px;\">\n",
       "            <h3 style=\"margin-bottom: 0px;\">Scheduler</h3>\n",
       "            <p style=\"color: #9D9D9D; margin-bottom: 0px;\">Scheduler-d114e77c-b340-418a-82a0-3486ebc1aa3d</p>\n",
       "            <table style=\"width: 100%; text-align: left;\">\n",
       "                <tr>\n",
       "                    <td style=\"text-align: left;\">\n",
       "                        <strong>Comm:</strong> tcp://127.0.0.1:36501\n",
       "                    </td>\n",
       "                    <td style=\"text-align: left;\">\n",
       "                        <strong>Workers:</strong> 2\n",
       "                    </td>\n",
       "                </tr>\n",
       "                <tr>\n",
       "                    <td style=\"text-align: left;\">\n",
       "                        <strong>Dashboard:</strong> <a href=\"http://127.0.0.1:43595/status\" target=\"_blank\">http://127.0.0.1:43595/status</a>\n",
       "                    </td>\n",
       "                    <td style=\"text-align: left;\">\n",
       "                        <strong>Total threads:</strong> 2\n",
       "                    </td>\n",
       "                </tr>\n",
       "                <tr>\n",
       "                    <td style=\"text-align: left;\">\n",
       "                        <strong>Started:</strong> Just now\n",
       "                    </td>\n",
       "                    <td style=\"text-align: left;\">\n",
       "                        <strong>Total memory:</strong> 15.61 GiB\n",
       "                    </td>\n",
       "                </tr>\n",
       "            </table>\n",
       "        </div>\n",
       "    </div>\n",
       "\n",
       "    <details style=\"margin-left: 48px;\">\n",
       "        <summary style=\"margin-bottom: 20px;\">\n",
       "            <h3 style=\"display: inline;\">Workers</h3>\n",
       "        </summary>\n",
       "\n",
       "        \n",
       "        <div style=\"margin-bottom: 20px;\">\n",
       "            <div style=\"width: 24px; height: 24px; background-color: #DBF5FF; border: 3px solid #4CC9FF; border-radius: 5px; position: absolute;\"> </div>\n",
       "            <div style=\"margin-left: 48px;\">\n",
       "            <details>\n",
       "                <summary>\n",
       "                    <h4 style=\"margin-bottom: 0px; display: inline;\">Worker: 0</h4>\n",
       "                </summary>\n",
       "                <table style=\"width: 100%; text-align: left;\">\n",
       "                    <tr>\n",
       "                        <td style=\"text-align: left;\">\n",
       "                            <strong>Comm: </strong> tcp://127.0.0.1:33417\n",
       "                        </td>\n",
       "                        <td style=\"text-align: left;\">\n",
       "                            <strong>Total threads: </strong> 1\n",
       "                        </td>\n",
       "                    </tr>\n",
       "                    <tr>\n",
       "                        <td style=\"text-align: left;\">\n",
       "                            <strong>Dashboard: </strong> <a href=\"http://127.0.0.1:45655/status\" target=\"_blank\">http://127.0.0.1:45655/status</a>\n",
       "                        </td>\n",
       "                        <td style=\"text-align: left;\">\n",
       "                            <strong>Memory: </strong> 7.81 GiB\n",
       "                        </td>\n",
       "                    </tr>\n",
       "                    <tr>\n",
       "                        <td style=\"text-align: left;\">\n",
       "                            <strong>Nanny: </strong> tcp://127.0.0.1:42539\n",
       "                        </td>\n",
       "                        <td style=\"text-align: left;\"></td>\n",
       "                    </tr>\n",
       "                    <tr>\n",
       "                        <td colspan=\"2\" style=\"text-align: left;\">\n",
       "                            <strong>Local directory: </strong> /home/ec2-user/compute_tests/dask-worker-space/worker-3l6fj12r\n",
       "                        </td>\n",
       "                    </tr>\n",
       "\n",
       "                    \n",
       "\n",
       "                    \n",
       "\n",
       "                </table>\n",
       "            </details>\n",
       "            </div>\n",
       "        </div>\n",
       "        \n",
       "        <div style=\"margin-bottom: 20px;\">\n",
       "            <div style=\"width: 24px; height: 24px; background-color: #DBF5FF; border: 3px solid #4CC9FF; border-radius: 5px; position: absolute;\"> </div>\n",
       "            <div style=\"margin-left: 48px;\">\n",
       "            <details>\n",
       "                <summary>\n",
       "                    <h4 style=\"margin-bottom: 0px; display: inline;\">Worker: 1</h4>\n",
       "                </summary>\n",
       "                <table style=\"width: 100%; text-align: left;\">\n",
       "                    <tr>\n",
       "                        <td style=\"text-align: left;\">\n",
       "                            <strong>Comm: </strong> tcp://127.0.0.1:37387\n",
       "                        </td>\n",
       "                        <td style=\"text-align: left;\">\n",
       "                            <strong>Total threads: </strong> 1\n",
       "                        </td>\n",
       "                    </tr>\n",
       "                    <tr>\n",
       "                        <td style=\"text-align: left;\">\n",
       "                            <strong>Dashboard: </strong> <a href=\"http://127.0.0.1:39717/status\" target=\"_blank\">http://127.0.0.1:39717/status</a>\n",
       "                        </td>\n",
       "                        <td style=\"text-align: left;\">\n",
       "                            <strong>Memory: </strong> 7.81 GiB\n",
       "                        </td>\n",
       "                    </tr>\n",
       "                    <tr>\n",
       "                        <td style=\"text-align: left;\">\n",
       "                            <strong>Nanny: </strong> tcp://127.0.0.1:44381\n",
       "                        </td>\n",
       "                        <td style=\"text-align: left;\"></td>\n",
       "                    </tr>\n",
       "                    <tr>\n",
       "                        <td colspan=\"2\" style=\"text-align: left;\">\n",
       "                            <strong>Local directory: </strong> /home/ec2-user/compute_tests/dask-worker-space/worker-veb9p8nx\n",
       "                        </td>\n",
       "                    </tr>\n",
       "\n",
       "                    \n",
       "\n",
       "                    \n",
       "\n",
       "                </table>\n",
       "            </details>\n",
       "            </div>\n",
       "        </div>\n",
       "        \n",
       "\n",
       "    </details>\n",
       "</div>\n",
       "\n",
       "        </details>\n",
       "    </div>\n",
       "</div>\n",
       "            </details>\n",
       "        \n",
       "\n",
       "    </div>\n",
       "</div>"
      ],
      "text/plain": [
       "<Client: 'tcp://127.0.0.1:36501' processes=2 threads=2, memory=15.61 GiB>"
      ]
     },
     "execution_count": 54,
     "metadata": {},
     "output_type": "execute_result"
    }
   ],
   "source": [
    "#client = Client('tcp://127.0.0.1:36921')\n",
    "client = Client(n_workers=int(n_workers/2), threads_per_worker=1)\n",
    "client"
   ]
  },
  {
   "cell_type": "code",
   "execution_count": 67,
   "id": "7a8e02fc-2880-4aa9-8f7b-edd87035eee4",
   "metadata": {},
   "outputs": [
    {
     "name": "stdout",
     "output_type": "stream",
     "text": [
      "CPU times: user 3.17 ms, sys: 0 ns, total: 3.17 ms\n",
      "Wall time: 2.54 ms\n"
     ]
    },
    {
     "data": {
      "text/plain": [
       "[Delayed('downscale_xr_s3_dd-0cd265e3-d2c5-4250-b378-d2068fc926da'),\n",
       " Delayed('downscale_xr_s3_dd-749f68d6-842a-4107-b62c-5ab5e815ee46'),\n",
       " Delayed('downscale_xr_s3_dd-a6e6e309-c281-47b6-bd2f-03ea240be57f'),\n",
       " Delayed('downscale_xr_s3_dd-b8b3e729-576c-4027-a928-dee22bbc19bf'),\n",
       " Delayed('downscale_xr_s3_dd-a512948e-7bb1-4a74-ab45-89732ef00ba8'),\n",
       " Delayed('downscale_xr_s3_dd-3d490c0f-c47e-4907-ba48-09f79116cd9c'),\n",
       " Delayed('downscale_xr_s3_dd-22a27384-a400-4e69-a2bf-dfe789f6b4b3'),\n",
       " Delayed('downscale_xr_s3_dd-66e8af87-71cf-4300-9e51-b23216368cb4'),\n",
       " Delayed('downscale_xr_s3_dd-792a4e6a-38e0-4871-8195-372bbc960a59'),\n",
       " Delayed('downscale_xr_s3_dd-1c8cf7a9-4772-4612-91f6-d487fc52baba')]"
      ]
     },
     "execution_count": 67,
     "metadata": {},
     "output_type": "execute_result"
    }
   ],
   "source": [
    "%%time\n",
    "dscale_tasks = []\n",
    "chunks = {'time':1, 'lat':int(17999/3), 'lon':int(36000/3)}\n",
    "for i in range(10):\n",
    "    dscale_tasks.append(downscale_xr_s3_dd(fs_s3, fns[i], \"./sst_downscaled/\", chunks=None))\n",
    "dscale_tasks"
   ]
  },
  {
   "cell_type": "code",
   "execution_count": 68,
   "id": "f2e7b22f-864d-42d1-8c25-753f4520ef86",
   "metadata": {},
   "outputs": [
    {
     "name": "stderr",
     "output_type": "stream",
     "text": [
      "distributed.worker - WARNING - Unmanaged memory use is high. This may indicate a memory leak or the memory may not be released to the OS; see https://distributed.dask.org/en/latest/worker.html#memtrim for more information. -- Unmanaged memory: 5.52 GiB -- Worker memory limit: 7.81 GiB\n",
      "distributed.worker - WARNING - Unmanaged memory use is high. This may indicate a memory leak or the memory may not be released to the OS; see https://distributed.dask.org/en/latest/worker.html#memtrim for more information. -- Unmanaged memory: 5.60 GiB -- Worker memory limit: 7.81 GiB\n",
      "distributed.worker - WARNING - Unmanaged memory use is high. This may indicate a memory leak or the memory may not be released to the OS; see https://distributed.dask.org/en/latest/worker.html#memtrim for more information. -- Unmanaged memory: 5.67 GiB -- Worker memory limit: 7.81 GiB\n",
      "distributed.worker - WARNING - Unmanaged memory use is high. This may indicate a memory leak or the memory may not be released to the OS; see https://distributed.dask.org/en/latest/worker.html#memtrim for more information. -- Unmanaged memory: 5.55 GiB -- Worker memory limit: 7.81 GiB\n"
     ]
    },
    {
     "name": "stdout",
     "output_type": "stream",
     "text": [
      "CPU times: user 12.5 s, sys: 1.11 s, total: 13.6 s\n",
      "Wall time: 2min 47s\n"
     ]
    }
   ],
   "source": [
    "%%time\n",
    "_ = da.compute(*dscale_tasks)"
   ]
  },
  {
   "cell_type": "code",
   "execution_count": 42,
   "id": "1774b43a-5fb1-43d1-bc08-de17d2f63e35",
   "metadata": {},
   "outputs": [
    {
     "data": {
      "text/plain": [
       "['20020601090000-JPL-L4_GHRSST-SSTfnd-MUR-GLOB-v02.0-fv04.1_downscaled.nc',\n",
       " '20020605090000-JPL-L4_GHRSST-SSTfnd-MUR-GLOB-v02.0-fv04.1_downscaled.nc',\n",
       " '20020602090000-JPL-L4_GHRSST-SSTfnd-MUR-GLOB-v02.0-fv04.1_downscaled.nc',\n",
       " '20020604090000-JPL-L4_GHRSST-SSTfnd-MUR-GLOB-v02.0-fv04.1_downscaled.nc',\n",
       " '20020603090000-JPL-L4_GHRSST-SSTfnd-MUR-GLOB-v02.0-fv04.1_downscaled.nc',\n",
       " '20020606090000-JPL-L4_GHRSST-SSTfnd-MUR-GLOB-v02.0-fv04.1_downscaled.nc',\n",
       " '20020608090000-JPL-L4_GHRSST-SSTfnd-MUR-GLOB-v02.0-fv04.1_downscaled.nc',\n",
       " '20020607090000-JPL-L4_GHRSST-SSTfnd-MUR-GLOB-v02.0-fv04.1_downscaled.nc',\n",
       " '20020609090000-JPL-L4_GHRSST-SSTfnd-MUR-GLOB-v02.0-fv04.1_downscaled.nc',\n",
       " '20020610090000-JPL-L4_GHRSST-SSTfnd-MUR-GLOB-v02.0-fv04.1_downscaled.nc']"
      ]
     },
     "execution_count": 42,
     "metadata": {},
     "output_type": "execute_result"
    }
   ],
   "source": [
    "fnames_dscaled = [f for f in os.listdir(\"./sst_downscaled/\") if \"_downscaled\" in f]\n",
    "fnames_dscaled"
   ]
  },
  {
   "cell_type": "code",
   "execution_count": 52,
   "id": "4bd848b1-5dd2-4f85-bcb6-91948b41abb1",
   "metadata": {},
   "outputs": [
    {
     "data": {
      "image/png": "[encoded data removed]",
      "text/plain": [
       "<Figure size 1000x500 with 2 Axes>"
      ]
     },
     "metadata": {},
     "output_type": "display_data"
    }
   ],
   "source": [
    "dscaled_test = xr.open_dataset(\"./sst_downscaled/\" + fnames_dscaled[5])\n",
    "clevs = np.arange(271, 305, 5)\n",
    "\n",
    "fig = plt.figure(figsize=(10, 5))\n",
    "ax = plt.axes()\n",
    "cp = ax.contourf(dscaled_test['lon'], dscaled_test['lat'], dscaled_test['sst'][0, ...], levels=clevs)\n",
    "fig.colorbar(cp, ax=ax)\n",
    "\n",
    "dscaled_test.close()"
   ]
  },
  {
   "cell_type": "code",
   "execution_count": 39,
   "id": "5e6ad0dd-3918-42d5-8359-fc2471c86bf1",
   "metadata": {},
   "outputs": [
    {
     "name": "stdout",
     "output_type": "stream",
     "text": [
      "Opening  podaac-ops-cumulus-protected/MUR-JPL-L4-GLOB-v4.1/20020606090000-JPL-L4_GHRSST-SSTfnd-MUR-GLOB-v02.0-fv04.1.nc\n",
      "Downscaling.\n",
      "Saving output.\n",
      "Opening  podaac-ops-cumulus-protected/MUR-JPL-L4-GLOB-v4.1/20020607090000-JPL-L4_GHRSST-SSTfnd-MUR-GLOB-v02.0-fv04.1.nc\n",
      "Downscaling.\n",
      "Saving output.\n",
      "Opening  podaac-ops-cumulus-protected/MUR-JPL-L4-GLOB-v4.1/20020601090000-JPL-L4_GHRSST-SSTfnd-MUR-GLOB-v02.0-fv04.1.nc\n",
      "Downscaling.\n",
      "Saving output.\n",
      "Opening  podaac-ops-cumulus-protected/MUR-JPL-L4-GLOB-v4.1/20020610090000-JPL-L4_GHRSST-SSTfnd-MUR-GLOB-v02.0-fv04.1.nc\n",
      "Downscaling.\n",
      "Saving output.\n",
      "Opening  podaac-ops-cumulus-protected/MUR-JPL-L4-GLOB-v4.1/20020604090000-JPL-L4_GHRSST-SSTfnd-MUR-GLOB-v02.0-fv04.1.nc\n",
      "Downscaling.\n",
      "Saving output.\n",
      "Opening  podaac-ops-cumulus-protected/MUR-JPL-L4-GLOB-v4.1/20020608090000-JPL-L4_GHRSST-SSTfnd-MUR-GLOB-v02.0-fv04.1.nc\n",
      "Downscaling.\n",
      "Saving output.\n",
      "Opening  podaac-ops-cumulus-protected/MUR-JPL-L4-GLOB-v4.1/20020603090000-JPL-L4_GHRSST-SSTfnd-MUR-GLOB-v02.0-fv04.1.nc\n",
      "Downscaling.\n",
      "Saving output.\n",
      "Opening  podaac-ops-cumulus-protected/MUR-JPL-L4-GLOB-v4.1/20020609090000-JPL-L4_GHRSST-SSTfnd-MUR-GLOB-v02.0-fv04.1.nc\n",
      "Downscaling.\n",
      "Saving output.\n",
      "Opening  podaac-ops-cumulus-protected/MUR-JPL-L4-GLOB-v4.1/20020602090000-JPL-L4_GHRSST-SSTfnd-MUR-GLOB-v02.0-fv04.1.nc\n",
      "Downscaling.\n",
      "Saving output.\n",
      "Opening  podaac-ops-cumulus-protected/MUR-JPL-L4-GLOB-v4.1/20020605090000-JPL-L4_GHRSST-SSTfnd-MUR-GLOB-v02.0-fv04.1.nc\n",
      "Downscaling.\n",
      "Saving output.\n"
     ]
    }
   ],
   "source": [
    "client.close()"
   ]
  },
  {
   "cell_type": "markdown",
   "id": "868787d5-bdcd-41ad-aa9f-0811cabe3c4a",
   "metadata": {},
   "source": [
    "## Summary\n",
    "\n",
    "* On the t2.xlarge (4 vCPUs, ~16 GiB memory)\n",
    ">* having 4 workers with 4 threads fails, \n",
    ">* having 2 workers with 4 threads succeeds but takes the same amount of time as sequential computation, \n",
    ">* having 2 workings with 2 threads completes 32 % faster than sequential computation (from 3 min 52 seconds down to 2 min 38 seconds)\n",
    "* Where to go from here? Computation time/costs for downscaling 1000 MUR 1 km files on EC2 instances with differing:\n",
    ">* vCPUs\n",
    ">* memory per vCPU\n",
    ">* bandwidth (took 11 seconds to process a file locally on the EC2, vs 27 seconds using S3 access).\n",
    ">* working with bigger files"
   ]
  },
  {
   "cell_type": "code",
   "execution_count": null,
   "id": "f6bbc02f-c46b-4b22-a1f3-18a1c2bbd818",
   "metadata": {},
   "outputs": [],
   "source": []
  }
 ],
 "metadata": {
  "kernelspec": {
   "display_name": "Python 3 (ipykernel)",
   "language": "python",
   "name": "python3"
  },
  "language_info": {
   "codemirror_mode": {
    "name": "ipython",
    "version": 3
   },
   "file_extension": ".py",
   "mimetype": "text/x-python",
   "name": "python",
   "nbconvert_exporter": "python",
   "pygments_lexer": "ipython3",
   "version": "3.11.3"
  }
 },
 "nbformat": 4,
 "nbformat_minor": 5
}
