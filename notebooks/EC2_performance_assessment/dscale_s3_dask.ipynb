{
 "cells": [
  {
   "cell_type": "markdown",
   "id": "2d3b7239",
   "metadata": {},
   "source": [
    "# Performance/Cost Assessment of EC2 Types Using Dask\n",
    "## Downscale MUR SST 1 km files via an EC2 instance, accessing S3 buckets and utilizing dask parallel computing\n",
    "\n",
    "This notebook is a first demonstration of functions and workflow. MUR 1 km files are accessed via S3, downscaled to 100 km resolution over the entire globe, and saved as .nc files in a new folder. \n",
    "\n",
    "Uses the MUR Level 4 daily SST ultra high resolution data product, 0.01 degree resolution:\n",
    "* product information: https://doi.org/10.5067/GHGMR-4FJ04\n",
    "* s3 location `s3://podaac-ops-cumulus-protected/MUR-JPL-L4-GLOB-v4.1/`.\n",
    "\n",
    "<br>\n",
    "\n",
    "**Requirements to run this notebook**\n",
    "* Run from an AWS EC2 instance (bare minimum of t2.xlarge recommended).\n",
    "* Have a URS Earthdata login, with login credentials placed in the `.netrc` file on the home directory of the instance:\n",
    "```\n",
    "machine urs.earthdata.nasa.gov\n",
    "    login <Earthdata username>\n",
    "    password <Earthdata password>\n",
    "```\n",
    "\n",
    "<br>\n",
    "\n",
    "**Other notes**\n",
    "* Seems like a minimum of a t2.xlarge instance (8 GB RAM) is required.\n",
    "* ***Garbage collection and variable deletion is essential. EC2 instance runs out of RAM otherwise.***\n",
    "\n",
    "<br>\n"
   ]
  },
  {
   "cell_type": "code",
   "execution_count": 1,
   "id": "ad0f25a3-af77-4b47-9fa2-7bbcc7531da3",
   "metadata": {},
   "outputs": [],
   "source": [
    "import gc\n",
    "import os\n",
    "import shutil\n",
    "\n",
    "import s3fs\n",
    "import requests\n",
    "\n",
    "import xarray as xr\n",
    "import numpy as np\n",
    "import pandas as pd\n",
    "\n",
    "import multiprocessing\n",
    "import dask.array as da\n",
    "from dask import delayed\n",
    "from dask.distributed import Client\n",
    "\n",
    "import matplotlib.pyplot as plt\n",
    "%matplotlib inline"
   ]
  },
  {
   "cell_type": "markdown",
   "id": "a27ac8ad-c1c9-4556-bccd-3aa5332af23b",
   "metadata": {},
   "source": [
    "## Establish S3 connection and obtain MUR file paths\n",
    "**!!** If code blocks in this section fail, ensure that the requirements to run this notebook listed above have been met."
   ]
  },
  {
   "cell_type": "code",
   "execution_count": 2,
   "id": "bde9c3b7-bce7-42b4-b964-f78d7ec3f7ca",
   "metadata": {},
   "outputs": [],
   "source": [
    "def init_S3FileSystem():\n",
    "    \"\"\"\n",
    "    This routine automatically pulls your EDL crediential from .netrc file and use it \n",
    "    to obtain a temporary AWS S3 credential through a podaac service accessable at \n",
    "    https://archive.podaac.earthdata.nasa.gov/s3credentials\n",
    "    \n",
    "    Return:\n",
    "    =======\n",
    "    s3: an AWS S3 filesystem\n",
    "    \"\"\"\n",
    "    import requests, s3fs\n",
    "    creds = requests.get('https://archive.podaac.earthdata.nasa.gov/s3credentials').json()\n",
    "    s3 = s3fs.S3FileSystem(anon=False,\n",
    "                           key=creds['accessKeyId'],\n",
    "                           secret=creds['secretAccessKey'], \n",
    "                           token=creds['sessionToken'],\n",
    "                           client_kwargs={'region_name':'us-west-2'})\n",
    "    return s3"
   ]
  },
  {
   "cell_type": "code",
   "execution_count": 3,
   "id": "abae3dd6-b75f-4479-af20-6e915ed8f3c4",
   "metadata": {},
   "outputs": [],
   "source": [
    "# Get temporary AWS credentials for access\n",
    "fs_s3 = init_S3FileSystem()"
   ]
  },
  {
   "cell_type": "code",
   "execution_count": 4,
   "id": "a139c8cd-e878-46a8-8d36-61d28cfb7fc3",
   "metadata": {},
   "outputs": [
    {
     "name": "stdout",
     "output_type": "stream",
     "text": [
      "total granules =  7677\n",
      "Example filename:  podaac-ops-cumulus-protected/MUR-JPL-L4-GLOB-v4.1/20020601090000-JPL-L4_GHRSST-SSTfnd-MUR-GLOB-v02.0-fv04.1.nc\n"
     ]
    }
   ],
   "source": [
    "# File paths of all MUR granules:\n",
    "s3path = \"s3://podaac-ops-cumulus-protected/MUR-JPL-L4-GLOB-v4.1/\"\n",
    "fns = fs_s3.glob(s3path+\"*.nc\")\n",
    "print(\"total granules = \",len(fns))\n",
    "print(\"Example filename: \", fns[0])"
   ]
  },
  {
   "cell_type": "markdown",
   "id": "680caccc-84d5-4492-b420-948d1c164404",
   "metadata": {},
   "source": [
    "## Function to load and downscale MUR SST files"
   ]
  },
  {
   "cell_type": "code",
   "execution_count": 5,
   "id": "6bd91c23-548c-4bcc-874d-484f836bb7ca",
   "metadata": {},
   "outputs": [],
   "source": [
    "def downscale_xr_s3(fs_s3, filepath_s3, output_dir, chunks=None):\n",
    "    \"\"\"\n",
    "    Open and downscale SST's from 1 km to 100 km from a MUR 1 km file on an \n",
    "    S3 bucket. fs_s3 is the S3 file system and filepath_s3 is the MUR \n",
    "    filepath on S3. output_dir is the directory to save the downscaled \n",
    "    data file in.\n",
    "    \"\"\"\n",
    "    \n",
    "    print('Opening ', filepath_s3)\n",
    "    s3_file_obj = fs_s3.open(filepath_s3, mode='rb')\n",
    "    sstdata = xr.open_dataset(s3_file_obj, chunks=chunks)\n",
    "    \n",
    "    def downscale_mursst(sst):\n",
    "        \"\"\"\n",
    "        This function takes MUR SST 1km data (with dimensions of 17900x36000), reshapes, and \n",
    "        computes the mean temperature in 1x1 degree boxes, and then returns the processed \n",
    "        SST data (shape 180x360).\n",
    "\n",
    "        Parameters\n",
    "        ----------\n",
    "        sst: 2D array-like of sea surface temperatures.\n",
    "        \"\"\"\n",
    "        sst0 = np.r_[sst[0:1, :], sst]; del sst\n",
    "        sst = sst0.reshape(180, 100, 360, 100).mean(axis=-1).mean(axis=1); del sst0\n",
    "        return sst\n",
    "    \n",
    "    print(\"Downscaling.\")\n",
    "    sst_downscaled = downscale_mursst(sstdata['analysed_sst'][0, ...])\n",
    "    \n",
    "    # Save downscaled SST to .nc file:\n",
    "    print(\"Saving output.\")\n",
    "    ds = xr.Dataset(\n",
    "        data_vars=dict(\n",
    "            sst=([\"time\", \"lat\", \"lon\"], np.expand_dims(sst_downscaled, axis=0)) # Add dim for time.\n",
    "            ),\n",
    "        coords=dict(\n",
    "            lon=sstdata['lon'].values[::100], # lons, lats in downscaled res.\n",
    "            lat=sstdata['lat'].values[::100],\n",
    "            time=sstdata[\"time\"].values,\n",
    "            ),\n",
    "        attrs=dict(\n",
    "            description=\"SST downscaled from MUR 1 km file to 100 km resolution.\",\n",
    "            units=\"K\",\n",
    "            ),\n",
    "        )\n",
    "    ds.to_netcdf(output_dir + filepath_s3.split(\"/\")[-1][:-3] + \"_downscaled.nc\")\n",
    "    \n",
    "    sstdata.close()"
   ]
  },
  {
   "cell_type": "markdown",
   "id": "d0336774-4778-4c56-a749-9857f64bb9fb",
   "metadata": {},
   "source": [
    "## Control: Downscale 10 files without Dask"
   ]
  },
  {
   "cell_type": "markdown",
   "id": "aac7c61f-d5b7-4607-aac1-d677b8c353ea",
   "metadata": {},
   "source": [
    "Directory to save downscaled files in:"
   ]
  },
  {
   "cell_type": "code",
   "execution_count": 6,
   "id": "58ba32d1-8222-4b6c-896e-957ed35a1620",
   "metadata": {},
   "outputs": [],
   "source": [
    "dir_downscaled = \"./sst_downscaled/\"\n",
    "shutil.rmtree(dir_downscaled)\n",
    "os.mkdir(dir_downscaled)"
   ]
  },
  {
   "cell_type": "code",
   "execution_count": 9,
   "id": "b5339461-565f-4882-8b7a-b2dfcb0fc03a",
   "metadata": {},
   "outputs": [
    {
     "name": "stdout",
     "output_type": "stream",
     "text": [
      "Opening  podaac-ops-cumulus-protected/MUR-JPL-L4-GLOB-v4.1/20020601090000-JPL-L4_GHRSST-SSTfnd-MUR-GLOB-v02.0-fv04.1.nc\n",
      "Downscaling.\n",
      "Saving output.\n",
      "Opening  podaac-ops-cumulus-protected/MUR-JPL-L4-GLOB-v4.1/20020602090000-JPL-L4_GHRSST-SSTfnd-MUR-GLOB-v02.0-fv04.1.nc\n",
      "Downscaling.\n",
      "Saving output.\n",
      "Opening  podaac-ops-cumulus-protected/MUR-JPL-L4-GLOB-v4.1/20020603090000-JPL-L4_GHRSST-SSTfnd-MUR-GLOB-v02.0-fv04.1.nc\n",
      "Downscaling.\n",
      "Saving output.\n",
      "Opening  podaac-ops-cumulus-protected/MUR-JPL-L4-GLOB-v4.1/20020604090000-JPL-L4_GHRSST-SSTfnd-MUR-GLOB-v02.0-fv04.1.nc\n",
      "Downscaling.\n",
      "Saving output.\n",
      "Opening  podaac-ops-cumulus-protected/MUR-JPL-L4-GLOB-v4.1/20020605090000-JPL-L4_GHRSST-SSTfnd-MUR-GLOB-v02.0-fv04.1.nc\n",
      "Downscaling.\n",
      "Saving output.\n",
      "Opening  podaac-ops-cumulus-protected/MUR-JPL-L4-GLOB-v4.1/20020606090000-JPL-L4_GHRSST-SSTfnd-MUR-GLOB-v02.0-fv04.1.nc\n",
      "Downscaling.\n",
      "Saving output.\n",
      "Opening  podaac-ops-cumulus-protected/MUR-JPL-L4-GLOB-v4.1/20020607090000-JPL-L4_GHRSST-SSTfnd-MUR-GLOB-v02.0-fv04.1.nc\n",
      "Downscaling.\n",
      "Saving output.\n",
      "Opening  podaac-ops-cumulus-protected/MUR-JPL-L4-GLOB-v4.1/20020608090000-JPL-L4_GHRSST-SSTfnd-MUR-GLOB-v02.0-fv04.1.nc\n",
      "Downscaling.\n",
      "Saving output.\n",
      "Opening  podaac-ops-cumulus-protected/MUR-JPL-L4-GLOB-v4.1/20020609090000-JPL-L4_GHRSST-SSTfnd-MUR-GLOB-v02.0-fv04.1.nc\n",
      "Downscaling.\n",
      "Saving output.\n",
      "Opening  podaac-ops-cumulus-protected/MUR-JPL-L4-GLOB-v4.1/20020610090000-JPL-L4_GHRSST-SSTfnd-MUR-GLOB-v02.0-fv04.1.nc\n",
      "Downscaling.\n",
      "Saving output.\n",
      "CPU times: user 2min 1s, sys: 38.1 s, total: 2min 39s\n",
      "Wall time: 5min 31s\n"
     ]
    }
   ],
   "source": [
    "%%time\n",
    "for i in range(10):\n",
    "    downscale_xr_s3(fs_s3, fns[i], dir_downscaled)"
   ]
  },
  {
   "cell_type": "markdown",
   "id": "08d72b10-6556-4d8d-8d24-957fe3c7ec96",
   "metadata": {},
   "source": [
    "## Test: Downscale 10 files with Dask"
   ]
  },
  {
   "cell_type": "markdown",
   "id": "ad03ea6e-b934-4c33-ab5e-2b9e14178305",
   "metadata": {},
   "source": [
    "**Clear output folder**"
   ]
  },
  {
   "cell_type": "code",
   "execution_count": 7,
   "id": "8383438b-b1d0-4ab4-ad62-c9519cb79a06",
   "metadata": {},
   "outputs": [],
   "source": [
    "files_rm = [f for f in os.listdir(dir_downscaled) if f.endswith(\".nc\")]\n",
    "for f in files_rm:\n",
    "    os.remove(dir_downscaled + f)"
   ]
  },
  {
   "cell_type": "markdown",
   "id": "1e87d265-499c-4854-b320-a96ee21b4621",
   "metadata": {},
   "source": [
    "**Setup Dask cluster**"
   ]
  },
  {
   "cell_type": "code",
   "execution_count": 8,
   "id": "56500e97-8e90-4aad-b1c5-f3b7fb868842",
   "metadata": {},
   "outputs": [
    {
     "name": "stdout",
     "output_type": "stream",
     "text": [
      "4\n"
     ]
    }
   ],
   "source": [
    "# Just to see, print available CPUs on this machine:\n",
    "print(multiprocessing.cpu_count())"
   ]
  },
  {
   "cell_type": "code",
   "execution_count": 9,
   "id": "ab0c3f1d-4670-41ec-9923-8c43d80c9500",
   "metadata": {},
   "outputs": [
    {
     "name": "stderr",
     "output_type": "stream",
     "text": [
      "distributed.diskutils - INFO - Found stale lock file and directory '/home/ec2-user/compute_tests/dask-worker-space/worker-gqa1dx3t', purging\n",
      "distributed.diskutils - INFO - Found stale lock file and directory '/home/ec2-user/compute_tests/dask-worker-space/worker-3zngy3ey', purging\n"
     ]
    },
    {
     "data": {
      "text/html": [
       "<div>\n",
       "    <div style=\"width: 24px; height: 24px; background-color: #e1e1e1; border: 3px solid #9D9D9D; border-radius: 5px; position: absolute;\"> </div>\n",
       "    <div style=\"margin-left: 48px;\">\n",
       "        <h3 style=\"margin-bottom: 0px;\">Client</h3>\n",
       "        <p style=\"color: #9D9D9D; margin-bottom: 0px;\">Client-54a95610-0985-11ee-9c3a-064f06d3ce49</p>\n",
       "        <table style=\"width: 100%; text-align: left;\">\n",
       "\n",
       "        <tr>\n",
       "        \n",
       "            <td style=\"text-align: left;\"><strong>Connection method:</strong> Cluster object</td>\n",
       "            <td style=\"text-align: left;\"><strong>Cluster type:</strong> distributed.LocalCluster</td>\n",
       "        \n",
       "        </tr>\n",
       "\n",
       "        \n",
       "            <tr>\n",
       "                <td style=\"text-align: left;\">\n",
       "                    <strong>Dashboard: </strong> <a href=\"http://127.0.0.1:8787/status\" target=\"_blank\">http://127.0.0.1:8787/status</a>\n",
       "                </td>\n",
       "                <td style=\"text-align: left;\"></td>\n",
       "            </tr>\n",
       "        \n",
       "\n",
       "        </table>\n",
       "\n",
       "        \n",
       "            <details>\n",
       "            <summary style=\"margin-bottom: 20px;\"><h3 style=\"display: inline;\">Cluster Info</h3></summary>\n",
       "            <div class=\"jp-RenderedHTMLCommon jp-RenderedHTML jp-mod-trusted jp-OutputArea-output\">\n",
       "    <div style=\"width: 24px; height: 24px; background-color: #e1e1e1; border: 3px solid #9D9D9D; border-radius: 5px; position: absolute;\">\n",
       "    </div>\n",
       "    <div style=\"margin-left: 48px;\">\n",
       "        <h3 style=\"margin-bottom: 0px; margin-top: 0px;\">LocalCluster</h3>\n",
       "        <p style=\"color: #9D9D9D; margin-bottom: 0px;\">3ffb7ed6</p>\n",
       "        <table style=\"width: 100%; text-align: left;\">\n",
       "            <tr>\n",
       "                <td style=\"text-align: left;\">\n",
       "                    <strong>Dashboard:</strong> <a href=\"http://127.0.0.1:8787/status\" target=\"_blank\">http://127.0.0.1:8787/status</a>\n",
       "                </td>\n",
       "                <td style=\"text-align: left;\">\n",
       "                    <strong>Workers:</strong> 2\n",
       "                </td>\n",
       "            </tr>\n",
       "            <tr>\n",
       "                <td style=\"text-align: left;\">\n",
       "                    <strong>Total threads:</strong> 2\n",
       "                </td>\n",
       "                <td style=\"text-align: left;\">\n",
       "                    <strong>Total memory:</strong> 15.61 GiB\n",
       "                </td>\n",
       "            </tr>\n",
       "            \n",
       "            <tr>\n",
       "    <td style=\"text-align: left;\"><strong>Status:</strong> running</td>\n",
       "    <td style=\"text-align: left;\"><strong>Using processes:</strong> True</td>\n",
       "</tr>\n",
       "\n",
       "            \n",
       "        </table>\n",
       "\n",
       "        <details>\n",
       "            <summary style=\"margin-bottom: 20px;\">\n",
       "                <h3 style=\"display: inline;\">Scheduler Info</h3>\n",
       "            </summary>\n",
       "\n",
       "            <div style=\"\">\n",
       "    <div>\n",
       "        <div style=\"width: 24px; height: 24px; background-color: #FFF7E5; border: 3px solid #FF6132; border-radius: 5px; position: absolute;\"> </div>\n",
       "        <div style=\"margin-left: 48px;\">\n",
       "            <h3 style=\"margin-bottom: 0px;\">Scheduler</h3>\n",
       "            <p style=\"color: #9D9D9D; margin-bottom: 0px;\">Scheduler-91918111-9270-446b-87d6-e255cf2a7192</p>\n",
       "            <table style=\"width: 100%; text-align: left;\">\n",
       "                <tr>\n",
       "                    <td style=\"text-align: left;\">\n",
       "                        <strong>Comm:</strong> tcp://127.0.0.1:38207\n",
       "                    </td>\n",
       "                    <td style=\"text-align: left;\">\n",
       "                        <strong>Workers:</strong> 2\n",
       "                    </td>\n",
       "                </tr>\n",
       "                <tr>\n",
       "                    <td style=\"text-align: left;\">\n",
       "                        <strong>Dashboard:</strong> <a href=\"http://127.0.0.1:8787/status\" target=\"_blank\">http://127.0.0.1:8787/status</a>\n",
       "                    </td>\n",
       "                    <td style=\"text-align: left;\">\n",
       "                        <strong>Total threads:</strong> 2\n",
       "                    </td>\n",
       "                </tr>\n",
       "                <tr>\n",
       "                    <td style=\"text-align: left;\">\n",
       "                        <strong>Started:</strong> Just now\n",
       "                    </td>\n",
       "                    <td style=\"text-align: left;\">\n",
       "                        <strong>Total memory:</strong> 15.61 GiB\n",
       "                    </td>\n",
       "                </tr>\n",
       "            </table>\n",
       "        </div>\n",
       "    </div>\n",
       "\n",
       "    <details style=\"margin-left: 48px;\">\n",
       "        <summary style=\"margin-bottom: 20px;\">\n",
       "            <h3 style=\"display: inline;\">Workers</h3>\n",
       "        </summary>\n",
       "\n",
       "        \n",
       "        <div style=\"margin-bottom: 20px;\">\n",
       "            <div style=\"width: 24px; height: 24px; background-color: #DBF5FF; border: 3px solid #4CC9FF; border-radius: 5px; position: absolute;\"> </div>\n",
       "            <div style=\"margin-left: 48px;\">\n",
       "            <details>\n",
       "                <summary>\n",
       "                    <h4 style=\"margin-bottom: 0px; display: inline;\">Worker: 0</h4>\n",
       "                </summary>\n",
       "                <table style=\"width: 100%; text-align: left;\">\n",
       "                    <tr>\n",
       "                        <td style=\"text-align: left;\">\n",
       "                            <strong>Comm: </strong> tcp://127.0.0.1:41671\n",
       "                        </td>\n",
       "                        <td style=\"text-align: left;\">\n",
       "                            <strong>Total threads: </strong> 1\n",
       "                        </td>\n",
       "                    </tr>\n",
       "                    <tr>\n",
       "                        <td style=\"text-align: left;\">\n",
       "                            <strong>Dashboard: </strong> <a href=\"http://127.0.0.1:33759/status\" target=\"_blank\">http://127.0.0.1:33759/status</a>\n",
       "                        </td>\n",
       "                        <td style=\"text-align: left;\">\n",
       "                            <strong>Memory: </strong> 7.81 GiB\n",
       "                        </td>\n",
       "                    </tr>\n",
       "                    <tr>\n",
       "                        <td style=\"text-align: left;\">\n",
       "                            <strong>Nanny: </strong> tcp://127.0.0.1:33565\n",
       "                        </td>\n",
       "                        <td style=\"text-align: left;\"></td>\n",
       "                    </tr>\n",
       "                    <tr>\n",
       "                        <td colspan=\"2\" style=\"text-align: left;\">\n",
       "                            <strong>Local directory: </strong> /home/ec2-user/compute_tests/dask-worker-space/worker-nwd9rsas\n",
       "                        </td>\n",
       "                    </tr>\n",
       "\n",
       "                    \n",
       "\n",
       "                    \n",
       "\n",
       "                </table>\n",
       "            </details>\n",
       "            </div>\n",
       "        </div>\n",
       "        \n",
       "        <div style=\"margin-bottom: 20px;\">\n",
       "            <div style=\"width: 24px; height: 24px; background-color: #DBF5FF; border: 3px solid #4CC9FF; border-radius: 5px; position: absolute;\"> </div>\n",
       "            <div style=\"margin-left: 48px;\">\n",
       "            <details>\n",
       "                <summary>\n",
       "                    <h4 style=\"margin-bottom: 0px; display: inline;\">Worker: 1</h4>\n",
       "                </summary>\n",
       "                <table style=\"width: 100%; text-align: left;\">\n",
       "                    <tr>\n",
       "                        <td style=\"text-align: left;\">\n",
       "                            <strong>Comm: </strong> tcp://127.0.0.1:46705\n",
       "                        </td>\n",
       "                        <td style=\"text-align: left;\">\n",
       "                            <strong>Total threads: </strong> 1\n",
       "                        </td>\n",
       "                    </tr>\n",
       "                    <tr>\n",
       "                        <td style=\"text-align: left;\">\n",
       "                            <strong>Dashboard: </strong> <a href=\"http://127.0.0.1:40331/status\" target=\"_blank\">http://127.0.0.1:40331/status</a>\n",
       "                        </td>\n",
       "                        <td style=\"text-align: left;\">\n",
       "                            <strong>Memory: </strong> 7.81 GiB\n",
       "                        </td>\n",
       "                    </tr>\n",
       "                    <tr>\n",
       "                        <td style=\"text-align: left;\">\n",
       "                            <strong>Nanny: </strong> tcp://127.0.0.1:32801\n",
       "                        </td>\n",
       "                        <td style=\"text-align: left;\"></td>\n",
       "                    </tr>\n",
       "                    <tr>\n",
       "                        <td colspan=\"2\" style=\"text-align: left;\">\n",
       "                            <strong>Local directory: </strong> /home/ec2-user/compute_tests/dask-worker-space/worker-bch3a4v_\n",
       "                        </td>\n",
       "                    </tr>\n",
       "\n",
       "                    \n",
       "\n",
       "                    \n",
       "\n",
       "                </table>\n",
       "            </details>\n",
       "            </div>\n",
       "        </div>\n",
       "        \n",
       "\n",
       "    </details>\n",
       "</div>\n",
       "\n",
       "        </details>\n",
       "    </div>\n",
       "</div>\n",
       "            </details>\n",
       "        \n",
       "\n",
       "    </div>\n",
       "</div>"
      ],
      "text/plain": [
       "<Client: 'tcp://127.0.0.1:38207' processes=2 threads=2, memory=15.61 GiB>"
      ]
     },
     "execution_count": 9,
     "metadata": {},
     "output_type": "execute_result"
    }
   ],
   "source": [
    "client = Client(n_workers=2, threads_per_worker=1, )\n",
    "client"
   ]
  },
  {
   "cell_type": "markdown",
   "id": "e1e6c745-09b3-451b-842a-3c51ab5df0ce",
   "metadata": {},
   "source": [
    "**Parallelize downscaling function and run computation on 10 files**\n",
    "\n",
    "The client may product memory warning messages but the computations will still complete."
   ]
  },
  {
   "cell_type": "code",
   "execution_count": 10,
   "id": "931585d5-4ccb-4a79-80bf-02093a3379b3",
   "metadata": {},
   "outputs": [],
   "source": [
    "# Wrap the process_granule function with dask.delayed\n",
    "delayed_downscale = delayed(downscale_xr_s3)"
   ]
  },
  {
   "cell_type": "code",
   "execution_count": 11,
   "id": "734be203-64ec-43bf-bc1e-a32e02c6f7e3",
   "metadata": {},
   "outputs": [
    {
     "name": "stderr",
     "output_type": "stream",
     "text": [
      "distributed.worker - WARNING - Unmanaged memory use is high. This may indicate a memory leak or the memory may not be released to the OS; see https://distributed.dask.org/en/latest/worker.html#memtrim for more information. -- Unmanaged memory: 5.68 GiB -- Worker memory limit: 7.81 GiB\n",
      "distributed.worker - WARNING - Unmanaged memory use is high. This may indicate a memory leak or the memory may not be released to the OS; see https://distributed.dask.org/en/latest/worker.html#memtrim for more information. -- Unmanaged memory: 5.55 GiB -- Worker memory limit: 7.81 GiB\n",
      "distributed.worker - WARNING - Unmanaged memory use is high. This may indicate a memory leak or the memory may not be released to the OS; see https://distributed.dask.org/en/latest/worker.html#memtrim for more information. -- Unmanaged memory: 5.62 GiB -- Worker memory limit: 7.81 GiB\n",
      "distributed.worker - WARNING - Unmanaged memory use is high. This may indicate a memory leak or the memory may not be released to the OS; see https://distributed.dask.org/en/latest/worker.html#memtrim for more information. -- Unmanaged memory: 5.55 GiB -- Worker memory limit: 7.81 GiB\n",
      "distributed.worker - WARNING - Unmanaged memory use is high. This may indicate a memory leak or the memory may not be released to the OS; see https://distributed.dask.org/en/latest/worker.html#memtrim for more information. -- Unmanaged memory: 5.50 GiB -- Worker memory limit: 7.81 GiB\n",
      "distributed.worker - WARNING - Unmanaged memory use is high. This may indicate a memory leak or the memory may not be released to the OS; see https://distributed.dask.org/en/latest/worker.html#memtrim for more information. -- Unmanaged memory: 5.63 GiB -- Worker memory limit: 7.81 GiB\n"
     ]
    },
    {
     "name": "stdout",
     "output_type": "stream",
     "text": [
      "CPU times: user 7.35 s, sys: 1.02 s, total: 8.37 s\n",
      "Wall time: 2min 33s\n"
     ]
    }
   ],
   "source": [
    "%%time\n",
    "# Process all granules in parallel using Dask\n",
    "dscale_tasks = [\n",
    "    delayed_downscale(fs_s3, fn, dir_downscaled) \n",
    "    for fn in fns[:10]\n",
    "    ]\n",
    "_ = da.compute(*dscale_tasks)"
   ]
  },
  {
   "cell_type": "code",
   "execution_count": 13,
   "id": "16b60028-ad6f-4978-a889-ac1c22586ba6",
   "metadata": {},
   "outputs": [
    {
     "name": "stdout",
     "output_type": "stream",
     "text": [
      "Opening  podaac-ops-cumulus-protected/MUR-JPL-L4-GLOB-v4.1/20020603090000-JPL-L4_GHRSST-SSTfnd-MUR-GLOB-v02.0-fv04.1.nc\n",
      "Downscaling.\n",
      "Saving output.\n",
      "Opening  podaac-ops-cumulus-protected/MUR-JPL-L4-GLOB-v4.1/20020608090000-JPL-L4_GHRSST-SSTfnd-MUR-GLOB-v02.0-fv04.1.nc\n",
      "Downscaling.\n",
      "Saving output.\n",
      "Opening  podaac-ops-cumulus-protected/MUR-JPL-L4-GLOB-v4.1/20020605090000-JPL-L4_GHRSST-SSTfnd-MUR-GLOB-v02.0-fv04.1.nc\n",
      "Downscaling.\n",
      "Saving output.\n",
      "Opening  podaac-ops-cumulus-protected/MUR-JPL-L4-GLOB-v4.1/20020609090000-JPL-L4_GHRSST-SSTfnd-MUR-GLOB-v02.0-fv04.1.nc\n",
      "Downscaling.\n",
      "Saving output.\n",
      "Opening  podaac-ops-cumulus-protected/MUR-JPL-L4-GLOB-v4.1/20020606090000-JPL-L4_GHRSST-SSTfnd-MUR-GLOB-v02.0-fv04.1.nc\n",
      "Downscaling.\n",
      "Saving output.\n",
      "Opening  podaac-ops-cumulus-protected/MUR-JPL-L4-GLOB-v4.1/20020604090000-JPL-L4_GHRSST-SSTfnd-MUR-GLOB-v02.0-fv04.1.nc\n",
      "Downscaling.\n",
      "Saving output.\n",
      "Opening  podaac-ops-cumulus-protected/MUR-JPL-L4-GLOB-v4.1/20020601090000-JPL-L4_GHRSST-SSTfnd-MUR-GLOB-v02.0-fv04.1.nc\n",
      "Downscaling.\n",
      "Saving output.\n",
      "Opening  podaac-ops-cumulus-protected/MUR-JPL-L4-GLOB-v4.1/20020602090000-JPL-L4_GHRSST-SSTfnd-MUR-GLOB-v02.0-fv04.1.nc\n",
      "Downscaling.\n",
      "Saving output.\n",
      "Opening  podaac-ops-cumulus-protected/MUR-JPL-L4-GLOB-v4.1/20020607090000-JPL-L4_GHRSST-SSTfnd-MUR-GLOB-v02.0-fv04.1.nc\n",
      "Downscaling.\n",
      "Saving output.\n",
      "Opening  podaac-ops-cumulus-protected/MUR-JPL-L4-GLOB-v4.1/20020610090000-JPL-L4_GHRSST-SSTfnd-MUR-GLOB-v02.0-fv04.1.nc\n",
      "Downscaling.\n",
      "Saving output.\n"
     ]
    }
   ],
   "source": [
    "client.close()"
   ]
  },
  {
   "cell_type": "code",
   "execution_count": 12,
   "id": "b82acf93-0d64-40d2-8055-6a849d66e7bc",
   "metadata": {},
   "outputs": [
    {
     "data": {
      "text/plain": [
       "['20020603090000-JPL-L4_GHRSST-SSTfnd-MUR-GLOB-v02.0-fv04.1_downscaled.nc',\n",
       " '20020604090000-JPL-L4_GHRSST-SSTfnd-MUR-GLOB-v02.0-fv04.1_downscaled.nc',\n",
       " '20020608090000-JPL-L4_GHRSST-SSTfnd-MUR-GLOB-v02.0-fv04.1_downscaled.nc',\n",
       " '20020601090000-JPL-L4_GHRSST-SSTfnd-MUR-GLOB-v02.0-fv04.1_downscaled.nc',\n",
       " '20020605090000-JPL-L4_GHRSST-SSTfnd-MUR-GLOB-v02.0-fv04.1_downscaled.nc',\n",
       " '20020602090000-JPL-L4_GHRSST-SSTfnd-MUR-GLOB-v02.0-fv04.1_downscaled.nc',\n",
       " '20020609090000-JPL-L4_GHRSST-SSTfnd-MUR-GLOB-v02.0-fv04.1_downscaled.nc',\n",
       " '20020607090000-JPL-L4_GHRSST-SSTfnd-MUR-GLOB-v02.0-fv04.1_downscaled.nc',\n",
       " '20020606090000-JPL-L4_GHRSST-SSTfnd-MUR-GLOB-v02.0-fv04.1_downscaled.nc',\n",
       " '20020610090000-JPL-L4_GHRSST-SSTfnd-MUR-GLOB-v02.0-fv04.1_downscaled.nc']"
      ]
     },
     "execution_count": 12,
     "metadata": {},
     "output_type": "execute_result"
    }
   ],
   "source": [
    "fnames_dscaled = [f for f in os.listdir(\"./sst_downscaled/\") if \"_downscaled\" in f]\n",
    "fnames_dscaled"
   ]
  },
  {
   "cell_type": "markdown",
   "id": "f43f29e6-2eec-4319-a339-71202205d107",
   "metadata": {},
   "source": [
    "## Test plot for one of the output files"
   ]
  },
  {
   "cell_type": "code",
   "execution_count": 42,
   "id": "4bd848b1-5dd2-4f85-bcb6-91948b41abb1",
   "metadata": {},
   "outputs": [
    {
     "data": {
      "image/png": "[encoded data removed]",
      "text/plain": [
       "<Figure size 1000x500 with 2 Axes>"
      ]
     },
     "metadata": {},
     "output_type": "display_data"
    }
   ],
   "source": [
    "dscaled_test = xr.open_dataset(\"./sst_downscaled/\" + fnames_dscaled[5])\n",
    "clevs = np.arange(271, 305, 5)\n",
    "\n",
    "fig = plt.figure(figsize=(10, 5))\n",
    "ax = plt.axes()\n",
    "cp = ax.contourf(dscaled_test['lon'], dscaled_test['lat'], dscaled_test['sst'][0, ...], levels=clevs)\n",
    "fig.colorbar(cp, ax=ax)\n",
    "\n",
    "dscaled_test.close()"
   ]
  },
  {
   "cell_type": "markdown",
   "id": "868787d5-bdcd-41ad-aa9f-0811cabe3c4a",
   "metadata": {},
   "source": [
    "## Summary\n",
    "\n",
    "About 50% decrease in computation time with 2 workers (gut check passed)\n",
    "\n",
    "**Other notes**\n",
    "\n",
    "On the t2.xlarge (4 vCPUs, ~16 GiB memory)\n",
    "* having 4 workers with 4 threads fails, \n",
    "* having 2 workers with 4 threads succeeds but takes the same amount of time as sequential computation, "
   ]
  },
  {
   "cell_type": "code",
   "execution_count": null,
   "id": "f6bbc02f-c46b-4b22-a1f3-18a1c2bbd818",
   "metadata": {},
   "outputs": [],
   "source": []
  }
 ],
 "metadata": {
  "kernelspec": {
   "display_name": "Python 3 (ipykernel)",
   "language": "python",
   "name": "python3"
  },
  "language_info": {
   "codemirror_mode": {
    "name": "ipython",
    "version": 3
   },
   "file_extension": ".py",
   "mimetype": "text/x-python",
   "name": "python",
   "nbconvert_exporter": "python",
   "pygments_lexer": "ipython3",
   "version": "3.7.16"
  }
 },
 "nbformat": 4,
 "nbformat_minor": 5
}
